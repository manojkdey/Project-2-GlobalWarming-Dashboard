{
 "cells": [
  {
   "cell_type": "code",
   "execution_count": 1,
   "metadata": {},
   "outputs": [
    {
     "name": "stdout",
     "output_type": "stream",
     "text": [
      "['CO2ConsumptionPerCapita', 'GlobalMeanTemp', 'GlobalMnTemp', 'GlobalPercapitaCO2Emission', 'PerCapitaCO2Consumption']\n"
     ]
    }
   ],
   "source": [
    "import os\n",
    "\n",
    "import pandas as pd\n",
    "import numpy as np\n",
    "\n",
    "from sqlalchemy.ext.automap import automap_base\n",
    "from sqlalchemy.orm import Session\n",
    "from sqlalchemy import create_engine\n",
    "\n",
    "from flask import Flask, jsonify, render_template\n",
    "from flask_sqlalchemy import SQLAlchemy\n",
    "\n",
    "app = Flask(__name__)\n",
    "\n",
    "from sqlalchemy import create_engine\n",
    "engine = create_engine('sqlite:///db/globalWarming')\n",
    "print (engine.table_names())"
   ]
  },
  {
   "cell_type": "code",
   "execution_count": 2,
   "metadata": {},
   "outputs": [],
   "source": [
    "\n",
    "#################################################\n",
    "# Database Setup\n",
    "#################################################\n",
    "#- Following line is to suppress the following message \n",
    "#- warnings.warn('SQLALCHEMY_TRACK_MODIFICATIONS adds significant overhead and will be disabled by default in the future.  \n",
    "#- Set it to True to suppress this warning.')\n",
    "app.config['SQLALCHEMY_TRACK_MODIFICATIONS'] = False\n",
    "app.config[\"SQLALCHEMY_DATABASE_URI\"] = \"sqlite:///db/globalWarming\"\n",
    "db = SQLAlchemy(app)\n",
    "\n",
    "# reflect an existing database into a new model\n",
    "Base = automap_base()\n",
    "\n",
    "# reflect the tables\n",
    "Base.prepare(db.engine, reflect=True)\n",
    "\n",
    "# Save references to each table\n",
    "GlobalCO2Emission = Base.classes.GlobalPercapitaCO2Emission\n",
    "Samples = Base.classes.GlobalMnTemp\n",
    "Samples_Metadata = Base.classes.GlobalMnTemp"
   ]
  },
  {
   "cell_type": "code",
   "execution_count": 3,
   "metadata": {},
   "outputs": [],
   "source": [
    "\n",
    "\n",
    "@app.route(\"/\")\n",
    "def index():\n",
    "    \"\"\"Return the homepage.\"\"\"\n",
    "    return render_template(\"index.html\")\n",
    "\n"
   ]
  },
  {
   "cell_type": "code",
   "execution_count": 4,
   "metadata": {},
   "outputs": [],
   "source": [
    "\n",
    "@app.route(\"/names\")\n",
    "def names():\n",
    "    \"\"\"Return a list of sample names.\"\"\"\n",
    "\n",
    "   # # Use Pandas to perform the sql query\n",
    "    stmt = db.session.query(Samples).statement\n",
    "    df = pd.read_sql_query(stmt, db.session.bind)\n",
    "\n",
    "   # # Return a list of the column names (sample names)\n",
    "    return jsonify(list(df.columns)[2:])\n",
    "\n",
    "   # selYear = [\n",
    "   #     Samples.Year,\n",
    "   # ]\n",
    "\n",
    "   # Years = db.session.query(*selYear).all()\n",
    "   # return jsonify(list(Years))"
   ]
  },
  {
   "cell_type": "code",
   "execution_count": 5,
   "metadata": {},
   "outputs": [],
   "source": [
    "\n",
    "@app.route(\"/metadata/<sample>\")\n",
    "def sample_metadata(sample):\n",
    "    \"\"\"Return the MetaData for a given sample.\"\"\"\n",
    "    sel = [\n",
    "        Samples_Metadata.Year,\n",
    "        Samples_Metadata.Jan,\n",
    "        Samples_Metadata.Feb,\n",
    "        Samples_Metadata.Mar,\n",
    "        Samples_Metadata.Apr,\n",
    "        Samples_Metadata.May,\n",
    "        Samples_Metadata.Jun,\n",
    "        Samples_Metadata.Jul,\n",
    "        Samples_Metadata.Aug,\n",
    "        Samples_Metadata.Sep,\n",
    "        Samples_Metadata.Oct,\n",
    "        Samples_Metadata.Nov,\n",
    "        Samples_Metadata.Dec,\n",
    "        Samples_Metadata.DJF,\n",
    "        Samples_Metadata.MAM,\n",
    "        Samples_Metadata.JJA,\n",
    "        Samples_Metadata.SON,\n",
    "        Samples_Metadata.Jun,\n",
    "    ]\n",
    "\n",
    "    #results = db.session.query(*sel).filter(Samples_Metadata.Year == sample).all()\n",
    "    results = db.session.query(*sel).all()\n",
    "\n",
    "    # Create a dictionary entry for each row of metadata information\n",
    "    sample_metadata = {}\n",
    "    for result in results:\n",
    "        sample_metadata[\"Year\"] = result[0]\n",
    "        sample_metadata[\"Jan\"] = result[1]\n",
    "        sample_metadata[\"Feb\"] = result[2]\n",
    "        sample_metadata[\"Mar\"] = result[2]\n",
    "        sample_metadata[\"Apr\"] = result[4]\n",
    "        sample_metadata[\"May\"] = result[5]\n",
    "        sample_metadata[\"Jun\"] = result[6]\n",
    "        sample_metadata[\"Jul\"] = result[7]\n",
    "        sample_metadata[\"Aug\"] = result[8]\n",
    "        sample_metadata[\"Sep\"] = result[8]\n",
    "        sample_metadata[\"Oct\"] = result[10]\n",
    "        sample_metadata[\"Nov\"] = result[11]\n",
    "        sample_metadata[\"Dec\"] = result[12]\n",
    "        sample_metadata[\"DJF\"] = result[13]\n",
    "        sample_metadata[\"MAM\"] = result[14]\n",
    "        sample_metadata[\"JJA\"] = result[15]\n",
    "        sample_metadata[\"SON\"] = result[16]\n",
    "        sample_metadata[\"Jun\"] = result[17]\n",
    "\n",
    "    print(sample_metadata)\n",
    "    return jsonify(sample_metadata)\n",
    "\n",
    "\n"
   ]
  },
  {
   "cell_type": "code",
   "execution_count": 6,
   "metadata": {},
   "outputs": [],
   "source": [
    "@app.route(\"/samples/<sample>\")\n",
    "def samples(sample):\n",
    "    \"\"\"Return ``Year`,'Dec', 'DJF', 'MAM', 'JJA', 'SON', 'and `Dec`.\"\"\"\n",
    "    stmt = db.session.query(Samples).statement\n",
    "    df = pd.read_sql_query(stmt, db.session.bind)\n",
    "\n",
    "    # Filter the data based on the sample number and\n",
    "    # only keep rows with values above 1\n",
    "    sample_data = df.loc[df['Year'] < 2019, [\"Year\", sample]]\n",
    "    sample_data.columns = ['Year', 'tempAnnamolies']\n",
    "    sample_data['Month']=sample\n",
    "    \n",
    "    #sample_data['tempAnnamolies']=sample_data['tempAnnamolies'] * 10\n",
    "    # Sort by sample\n",
    "    sample_data.sort_values(by=\"Year\", ascending=False, inplace=True)\n",
    "\n",
    "    # Format the data to send as json\n",
    "    data = {\n",
    "        \"Year\": sample_data.Year.values.tolist(),\n",
    "        \"tempAnnamolies\": sample_data.tempAnnamolies.values.tolist(),\n",
    "         \"Month\": sample_data.Month.tolist(),\n",
    "    }\n",
    "    print(data)\n",
    "    return jsonify(data)\n"
   ]
  },
  {
   "cell_type": "code",
   "execution_count": null,
   "metadata": {
    "scrolled": true
   },
   "outputs": [
    {
     "name": "stdout",
     "output_type": "stream",
     "text": [
      " * Serving Flask app \"__main__\" (lazy loading)\n",
      " * Environment: production\n",
      "   WARNING: Do not use the development server in a production environment.\n",
      "   Use a production WSGI server instead.\n",
      " * Debug mode: off\n"
     ]
    },
    {
     "name": "stderr",
     "output_type": "stream",
     "text": [
      " * Running on http://127.0.0.1:5000/ (Press CTRL+C to quit)\n",
      "127.0.0.1 - - [01/Aug/2019 00:38:29] \"GET / HTTP/1.1\" 200 -\n",
      "127.0.0.1 - - [01/Aug/2019 00:38:29] \"GET /static/js/bonus.js HTTP/1.1\" 304 -\n",
      "127.0.0.1 - - [01/Aug/2019 00:38:29] \"GET /static/js/app.js HTTP/1.1\" 304 -\n",
      "127.0.0.1 - - [01/Aug/2019 00:38:30] \"GET /names HTTP/1.1\" 200 -\n",
      "127.0.0.1 - - [01/Aug/2019 00:38:30] \"GET /metadata/Feb HTTP/1.1\" 200 -\n",
      "127.0.0.1 - - [01/Aug/2019 00:38:30] \"GET /samples/Feb HTTP/1.1\" 200 -\n"
     ]
    },
    {
     "name": "stdout",
     "output_type": "stream",
     "text": [
      "{'Year': 2018, 'Jan': 0.77, 'Feb': 0.85, 'Mar': 0.85, 'Apr': 0.87, 'May': 0.81, 'Jun': 0.74, 'Jul': 0.79, 'Aug': 0.73, 'Sep': 0.73, 'Oct': 0.99, 'Nov': 0.78, 'Dec': 0.89, 'DJF': 0.83, 'MAM': 0.86, 'JJA': 0.75, 'SON': 0.84}\n",
      "{'Year': [2018, 2017, 2016, 2015, 2014, 2013, 2012, 2011, 2010, 2009, 2008, 2007, 2006, 2005, 2004, 2003, 2002, 2001, 2000, 1999, 1998, 1997, 1996, 1995, 1994, 1993, 1992, 1991, 1990, 1989, 1988, 1987, 1986, 1985, 1984, 1983, 1982, 1981, 1980, 1979, 1978, 1977, 1976, 1975, 1974, 1973, 1972, 1971, 1970, 1969, 1968, 1967, 1966, 1965, 1964, 1963, 1962, 1961, 1960, 1959, 1958, 1957, 1956, 1955, 1954, 1953, 1952, 1951, 1950, 1949, 1948, 1947, 1946, 1945, 1944, 1943, 1942, 1941, 1940, 1939, 1938, 1937, 1936, 1935, 1934, 1933, 1932, 1931, 1930, 1929, 1928, 1927, 1926, 1925, 1924, 1923, 1922, 1921, 1920, 1919, 1918, 1917, 1916, 1915, 1914, 1913, 1912, 1911, 1910, 1909, 1908, 1907, 1906, 1905, 1904, 1903, 1902, 1901, 1900, 1899, 1898, 1897, 1896, 1895, 1894, 1893, 1892, 1891, 1890, 1889, 1888, 1887, 1886, 1885, 1884, 1883, 1882, 1881, 1880], 'tempAnnamolies': [0.85, 1.13, 1.35, 0.87, 0.52, 0.56, 0.48, 0.51, 0.8, 0.51, 0.34, 0.7, 0.69, 0.57, 0.72, 0.55, 0.75, 0.43, 0.56, 0.65, 0.89, 0.38, 0.48, 0.78, 0.02, 0.39, 0.42, 0.49, 0.41, 0.35, 0.43, 0.45, 0.39, -0.07, 0.17, 0.4, 0.15, 0.41, 0.42, -0.11, 0.14, 0.22, -0.06, 0.07, -0.28, 0.31, -0.16, -0.19, 0.22, -0.14, -0.15, -0.21, 0.0, -0.17, -0.13, 0.2, 0.14, 0.19, 0.16, 0.09, 0.24, -0.04, -0.26, -0.18, -0.13, 0.14, 0.11, -0.43, -0.28, -0.16, -0.15, -0.08, 0.07, -0.02, 0.26, 0.14, 0.01, 0.32, 0.12, -0.08, -0.02, 0.03, -0.39, 0.14, -0.04, -0.34, -0.18, -0.24, -0.27, -0.6, -0.08, -0.18, 0.06, -0.39, -0.24, -0.37, -0.44, -0.19, -0.23, -0.23, -0.31, -0.61, -0.13, 0.0, -0.11, -0.43, -0.12, -0.58, -0.44, -0.47, -0.31, -0.52, -0.31, -0.59, -0.58, -0.03, -0.03, -0.04, -0.03, -0.4, -0.3, -0.15, -0.15, -0.42, -0.33, -0.54, -0.12, -0.47, -0.45, 0.18, -0.36, -0.53, -0.46, -0.3, -0.09, -0.39, 0.14, -0.18, -0.18], 'Month': ['Feb', 'Feb', 'Feb', 'Feb', 'Feb', 'Feb', 'Feb', 'Feb', 'Feb', 'Feb', 'Feb', 'Feb', 'Feb', 'Feb', 'Feb', 'Feb', 'Feb', 'Feb', 'Feb', 'Feb', 'Feb', 'Feb', 'Feb', 'Feb', 'Feb', 'Feb', 'Feb', 'Feb', 'Feb', 'Feb', 'Feb', 'Feb', 'Feb', 'Feb', 'Feb', 'Feb', 'Feb', 'Feb', 'Feb', 'Feb', 'Feb', 'Feb', 'Feb', 'Feb', 'Feb', 'Feb', 'Feb', 'Feb', 'Feb', 'Feb', 'Feb', 'Feb', 'Feb', 'Feb', 'Feb', 'Feb', 'Feb', 'Feb', 'Feb', 'Feb', 'Feb', 'Feb', 'Feb', 'Feb', 'Feb', 'Feb', 'Feb', 'Feb', 'Feb', 'Feb', 'Feb', 'Feb', 'Feb', 'Feb', 'Feb', 'Feb', 'Feb', 'Feb', 'Feb', 'Feb', 'Feb', 'Feb', 'Feb', 'Feb', 'Feb', 'Feb', 'Feb', 'Feb', 'Feb', 'Feb', 'Feb', 'Feb', 'Feb', 'Feb', 'Feb', 'Feb', 'Feb', 'Feb', 'Feb', 'Feb', 'Feb', 'Feb', 'Feb', 'Feb', 'Feb', 'Feb', 'Feb', 'Feb', 'Feb', 'Feb', 'Feb', 'Feb', 'Feb', 'Feb', 'Feb', 'Feb', 'Feb', 'Feb', 'Feb', 'Feb', 'Feb', 'Feb', 'Feb', 'Feb', 'Feb', 'Feb', 'Feb', 'Feb', 'Feb', 'Feb', 'Feb', 'Feb', 'Feb', 'Feb', 'Feb', 'Feb', 'Feb', 'Feb', 'Feb']}\n"
     ]
    }
   ],
   "source": [
    "\n",
    "\n",
    "if __name__ == \"__main__\":\n",
    "    app.run()"
   ]
  },
  {
   "cell_type": "code",
   "execution_count": null,
   "metadata": {},
   "outputs": [],
   "source": []
  },
  {
   "cell_type": "code",
   "execution_count": null,
   "metadata": {},
   "outputs": [],
   "source": []
  },
  {
   "cell_type": "code",
   "execution_count": null,
   "metadata": {},
   "outputs": [],
   "source": []
  }
 ],
 "metadata": {
  "kernelspec": {
   "display_name": "Python 3",
   "language": "python",
   "name": "python3"
  },
  "language_info": {
   "codemirror_mode": {
    "name": "ipython",
    "version": 3
   },
   "file_extension": ".py",
   "mimetype": "text/x-python",
   "name": "python",
   "nbconvert_exporter": "python",
   "pygments_lexer": "ipython3",
   "version": "3.7.1"
  }
 },
 "nbformat": 4,
 "nbformat_minor": 2
}

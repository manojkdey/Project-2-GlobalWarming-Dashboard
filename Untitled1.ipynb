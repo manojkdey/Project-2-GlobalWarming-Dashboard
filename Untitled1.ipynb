{
 "cells": [
  {
   "cell_type": "code",
   "execution_count": 1,
   "metadata": {},
   "outputs": [
    {
     "name": "stdout",
     "output_type": "stream",
     "text": [
      "['CO2ConsumptionPerCapita', 'GlobalMeanTemp', 'GlobalMnTemp', 'GlobalPercapitaCO2Emission', 'PerCapitaCO2Consumption']\n"
     ]
    }
   ],
   "source": [
    "import os\n",
    "\n",
    "import pandas as pd\n",
    "import numpy as np\n",
    "\n",
    "from sqlalchemy.ext.automap import automap_base\n",
    "from sqlalchemy.orm import Session\n",
    "from sqlalchemy import create_engine\n",
    "\n",
    "from flask import Flask, jsonify, render_template\n",
    "from flask_sqlalchemy import SQLAlchemy\n",
    "\n",
    "app = Flask(__name__)\n",
    "\n",
    "from sqlalchemy import create_engine\n",
    "engine = create_engine('sqlite:///db/globalWarming')\n",
    "print (engine.table_names())"
   ]
  },
  {
   "cell_type": "code",
   "execution_count": 2,
   "metadata": {},
   "outputs": [],
   "source": [
    "#################################################\n",
    "# Database Setup\n",
    "#################################################\n",
    "#- Following line is to suppress the following message \n",
    "#- warnings.warn('SQLALCHEMY_TRACK_MODIFICATIONS adds significant overhead and will be disabled by default in the future.  \n",
    "#- Set it to True to suppress this warning.')\n",
    "app.config['SQLALCHEMY_TRACK_MODIFICATIONS'] = False\n",
    "app.config[\"SQLALCHEMY_DATABASE_URI\"] = \"sqlite:///db/globalWarming\"\n",
    "db = SQLAlchemy(app)\n",
    "\n",
    "# reflect an existing database into a new model\n",
    "Base = automap_base()\n",
    "\n",
    "# reflect the tables\n",
    "Base.prepare(db.engine, reflect=True)\n",
    "\n",
    "# Save references to each table\n",
    "GlobalCO2Emission = Base.classes.GlobalPercapitaCO2Emission\n",
    "Samples = Base.classes.GlobalMnTemp\n",
    "Samples_Metadata = Base.classes.GlobalMnTemp"
   ]
  },
  {
   "cell_type": "code",
   "execution_count": 3,
   "metadata": {},
   "outputs": [],
   "source": [
    "\n",
    "@app.route(\"/\")\n",
    "def index():\n",
    "    \"\"\"Return the homepage.\"\"\"\n",
    "    return render_template(\"index.html\")\n"
   ]
  },
  {
   "cell_type": "code",
   "execution_count": null,
   "metadata": {},
   "outputs": [],
   "source": [
    "@app.route(\"/samples/<sample>\")\n",
    "def samples(sample):\n",
    "    \"\"\"Return ``Year`,'Dec', 'DJF', 'MAM', 'JJA', 'SON', 'and `Dec`.\"\"\"\n",
    "    stmt = db.session.query(Samples).statement\n",
    "    df = pd.read_sql_query(stmt, db.session.bind)\n",
    "\n",
    "    # Filter the data based on the sample number and\n",
    "    # only keep rows with values above 1\n",
    "    sample_data = df.loc[df['Year'] < 2019, [\"Year\", sample]]\n",
    "    sample_data.columns = ['Year', 'tempAnnamolies']\n",
    "    sample_data['Month']=sample\n",
    "    \n",
    "    #sample_data['tempAnnamolies']=sample_data['tempAnnamolies'] * 10\n",
    "    # Sort by sample\n",
    "    sample_data.sort_values(by=\"Year\", ascending=False, inplace=True)\n",
    "\n",
    "    # Format the data to send as json\n",
    "    data = {\n",
    "        \"Year\": sample_data.Year.values.tolist(),\n",
    "        \"tempAnnamolies\": sample_data.tempAnnamolies.values.tolist(),\n",
    "         \"Month\": sample_data.Month.tolist(),\n",
    "    }\n",
    "    print(data)\n",
    "    return jsonify(data)"
   ]
  }
 ],
 "metadata": {
  "kernelspec": {
   "display_name": "Python 3",
   "language": "python",
   "name": "python3"
  },
  "language_info": {
   "codemirror_mode": {
    "name": "ipython",
    "version": 3
   },
   "file_extension": ".py",
   "mimetype": "text/x-python",
   "name": "python",
   "nbconvert_exporter": "python",
   "pygments_lexer": "ipython3",
   "version": "3.7.1"
  }
 },
 "nbformat": 4,
 "nbformat_minor": 2
}
